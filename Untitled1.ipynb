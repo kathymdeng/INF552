{
 "cells": [
  {
   "cell_type": "code",
   "execution_count": 5,
   "metadata": {},
   "outputs": [
    {
     "name": "stdout",
     "output_type": "stream",
     "text": [
      "[[ 63.03  22.55  39.61  40.48  98.67  -0.25]\n",
      " [ 39.06  10.06  25.02  29.   114.41   4.56]\n",
      " [ 68.83  22.22  50.09  46.61 105.99  -3.53]\n",
      " ...\n",
      " [ 65.76  13.21  44.    52.55 129.39  -1.98]\n",
      " [ 40.41  -1.33  30.98  41.74 119.34  -6.17]\n",
      " [ 48.8   18.02  52.    30.78 139.15  10.44]]\n",
      "210\n",
      "100\n",
      "100\n"
     ]
    }
   ],
   "source": [
    "import pandas as pd\n",
    "import seaborn as sns\n",
    "df = pd.read_csv('/Users/kathydeng/Desktop/4th Year Fall Semester/INF 552/HW1/column_2C.dat', sep='\\s+', header=None, skiprows=0)\n",
    "#rename columns\n",
    "df.columns = ['a','b','c','d','e','f','g']\n",
    "\n",
    "dataAB = df.loc[df['g'] == 'AB']\n",
    "dataSetAB = dataAB[:140]\n",
    "dataSetABTest = dataAB[140:]\n",
    "dataNO = df.loc[df['g'] == 'NO']\n",
    "dataSetNO = dataNO[:70]\n",
    "dataSetNOTest = dataNO[70:]\n",
    "\n",
    "dataTrain = dataSetAB.append(dataSetNO)\n",
    "dataTest = dataSetABTest.append(dataSetNOTest)\n",
    "\n",
    "feature_columns = ['a', 'b', 'c','d', 'e','f']\n",
    "X_train = dataTrain[feature_columns].values\n",
    "print(X_train)\n",
    "Y_train = dataTrain['g'].values\n",
    "print(len(Y_train))\n",
    "X_test = dataTest[feature_columns].values\n",
    "print(len(X_test))\n",
    "Y_test = dataTest['g'].values\n",
    "print(len(Y_test))"
   ]
  },
  {
   "cell_type": "code",
   "execution_count": null,
   "metadata": {},
   "outputs": [],
   "source": []
  }
 ],
 "metadata": {
  "kernelspec": {
   "display_name": "Python 3",
   "language": "python",
   "name": "python3"
  },
  "language_info": {
   "codemirror_mode": {
    "name": "ipython",
    "version": 3
   },
   "file_extension": ".py",
   "mimetype": "text/x-python",
   "name": "python",
   "nbconvert_exporter": "python",
   "pygments_lexer": "ipython3",
   "version": "3.7.3"
  }
 },
 "nbformat": 4,
 "nbformat_minor": 4
}
